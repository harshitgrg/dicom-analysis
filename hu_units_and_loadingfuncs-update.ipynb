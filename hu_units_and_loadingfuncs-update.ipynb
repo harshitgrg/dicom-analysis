{
 "cells": [
  {
   "cell_type": "code",
   "execution_count": 2,
   "metadata": {},
   "outputs": [
    {
     "data": {
      "text/html": [
       "        <script type=\"text/javascript\">\n",
       "        window.PlotlyConfig = {MathJaxConfig: 'local'};\n",
       "        if (window.MathJax) {MathJax.Hub.Config({SVG: {font: \"STIX-Web\"}});}\n",
       "        if (typeof require !== 'undefined') {\n",
       "        require.undef(\"plotly\");\n",
       "        requirejs.config({\n",
       "            paths: {\n",
       "                'plotly': ['https://cdn.plot.ly/plotly-latest.min']\n",
       "            }\n",
       "        });\n",
       "        require(['plotly'], function(Plotly) {\n",
       "            window._Plotly = Plotly;\n",
       "        });\n",
       "        }\n",
       "        </script>\n",
       "        "
      ]
     },
     "metadata": {},
     "output_type": "display_data"
    }
   ],
   "source": [
    "import numpy as np\n",
    "import pydicom as pyd\n",
    "import os\n",
    "import matplotlib.pyplot as plt\n",
    "from glob import glob\n",
    "from mpl_toolkits.mplot3d.art3d import Poly3DCollection\n",
    "import scipy.ndimage\n",
    "from skimage import morphology\n",
    "from skimage import measure\n",
    "from skimage.transform import resize\n",
    "from sklearn.cluster import KMeans\n",
    "from plotly import __version__\n",
    "from plotly.offline import download_plotlyjs, init_notebook_mode, plot, iplot\n",
    "from plotly.tools import FigureFactory as FF\n",
    "from plotly.graph_objs import *\n",
    "init_notebook_mode(connected=True) \n"
   ]
  },
  {
   "cell_type": "code",
   "execution_count": 3,
   "metadata": {},
   "outputs": [],
   "source": [
    "data_path='./Lung-DICOM'\n",
    "output_path='../Project'\n"
   ]
  },
  {
   "cell_type": "code",
   "execution_count": 4,
   "metadata": {},
   "outputs": [],
   "source": [
    "# this function is fixing the missing values (if any) in the Slice Thickness Metadata\n",
    "def load_scan(path):#We can also do it for the other code, do it later.\n",
    "    # replace it with os.walk\n",
    "    slices=[pyd.dcmread(path+'/'+s) for s in os.listdir(path)]#List comprehension\n",
    "    #Sort the list by Instance number, instance is a unique key in each of the DICOM file\n",
    "    slices.sort(key=lambda x: int(x.InstanceNumber)) \n",
    "    try:#Slice thickness is along z axis, but we dont know actual coordinates because of reference issues, so \n",
    "        #we define slice_thickness as difference.\n",
    "        silce_thickness=np.abs(slices[0].ImagePositionPatient[2]-slices[1].ImagePositionPatient[2])\n",
    "    except:\n",
    "        slice_thickness=np.abs(slices[0].SliceLocation - slices[1].SliceLocation)\n",
    "\n",
    "        \n",
    "        # Slice location and image position [2] are same, this error handler ensures that if there is a missing value in image position, it takes slice location    for s in slices:#For every slice it will set the attribute to the value of above array\n",
    "        s.SliceThickness=slice_thickness\n",
    "    return slices\n",
    "\n",
    "    \n",
    "def get_pixels_hu(scans):\n",
    "    image=np.stack(list(ds.pixel_array for ds in scans))#We have stacked all the arrays(pixel arrays) as one. \n",
    "    image=image.astype(np.int16)#Image is the' combined effect' of slices' pixels data\n",
    "    intercept=scans[0].RescaleIntercept# These two attributes are already present in ds(ResInter and Slope)\n",
    "    slope=scans[0].RescaleSlope\n",
    "    image[image == -2000] = 0 #\n",
    "    if slope !=1:#slope is assumed to be one generally\n",
    "        image = slope * image.astype(np.float64)\n",
    "        image=image.astype(np.int16)\n",
    "    image=image+np.int16(intercept) #Formula for hu conversion: slope*image+intercept\n",
    "    return np.array(image, dtype=np.int16)\n",
    "id=0    "
   ]
  },
  {
   "cell_type": "code",
   "execution_count": 5,
   "metadata": {},
   "outputs": [
    {
     "ename": "FileNotFoundError",
     "evalue": "[WinError 3] The system cannot find the path specified: './Lung-DICOM'",
     "output_type": "error",
     "traceback": [
      "\u001b[1;31m---------------------------------------------------------------------------\u001b[0m",
      "\u001b[1;31mFileNotFoundError\u001b[0m                         Traceback (most recent call last)",
      "\u001b[1;32m<ipython-input-5-f4e3f0513e26>\u001b[0m in \u001b[0;36m<module>\u001b[1;34m\u001b[0m\n\u001b[1;32m----> 1\u001b[1;33m \u001b[0mpatient\u001b[0m \u001b[1;33m=\u001b[0m \u001b[0mload_scan\u001b[0m\u001b[1;33m(\u001b[0m\u001b[0mdata_path\u001b[0m\u001b[1;33m)\u001b[0m\u001b[1;33m\u001b[0m\u001b[1;33m\u001b[0m\u001b[0m\n\u001b[0m\u001b[0;32m      2\u001b[0m \u001b[0mimgs\u001b[0m \u001b[1;33m=\u001b[0m \u001b[0mget_pixels_hu\u001b[0m\u001b[1;33m(\u001b[0m\u001b[0mpatient\u001b[0m\u001b[1;33m)\u001b[0m\u001b[1;31m# for the second function patient is scans\u001b[0m\u001b[1;33m\u001b[0m\u001b[1;33m\u001b[0m\u001b[0m\n\u001b[0;32m      3\u001b[0m \u001b[1;31m# It should be noted that imgs contain pixel data and array used.\u001b[0m\u001b[1;33m\u001b[0m\u001b[1;33m\u001b[0m\u001b[1;33m\u001b[0m\u001b[0m\n",
      "\u001b[1;32m<ipython-input-4-0f4c6a86eaa8>\u001b[0m in \u001b[0;36mload_scan\u001b[1;34m(path)\u001b[0m\n\u001b[0;32m      2\u001b[0m \u001b[1;32mdef\u001b[0m \u001b[0mload_scan\u001b[0m\u001b[1;33m(\u001b[0m\u001b[0mpath\u001b[0m\u001b[1;33m)\u001b[0m\u001b[1;33m:\u001b[0m\u001b[1;31m#We can also do it for the other code, do it later.\u001b[0m\u001b[1;33m\u001b[0m\u001b[1;33m\u001b[0m\u001b[0m\n\u001b[0;32m      3\u001b[0m     \u001b[1;31m# replace it with os.walk\u001b[0m\u001b[1;33m\u001b[0m\u001b[1;33m\u001b[0m\u001b[1;33m\u001b[0m\u001b[0m\n\u001b[1;32m----> 4\u001b[1;33m     \u001b[0mslices\u001b[0m\u001b[1;33m=\u001b[0m\u001b[1;33m[\u001b[0m\u001b[0mpyd\u001b[0m\u001b[1;33m.\u001b[0m\u001b[0mdcmread\u001b[0m\u001b[1;33m(\u001b[0m\u001b[0mpath\u001b[0m\u001b[1;33m+\u001b[0m\u001b[1;34m'/'\u001b[0m\u001b[1;33m+\u001b[0m\u001b[0ms\u001b[0m\u001b[1;33m)\u001b[0m \u001b[1;32mfor\u001b[0m \u001b[0ms\u001b[0m \u001b[1;32min\u001b[0m \u001b[0mos\u001b[0m\u001b[1;33m.\u001b[0m\u001b[0mlistdir\u001b[0m\u001b[1;33m(\u001b[0m\u001b[0mpath\u001b[0m\u001b[1;33m)\u001b[0m\u001b[1;33m]\u001b[0m\u001b[1;31m#List comprehension\u001b[0m\u001b[1;33m\u001b[0m\u001b[1;33m\u001b[0m\u001b[0m\n\u001b[0m\u001b[0;32m      5\u001b[0m     \u001b[1;31m#Sort the list by Instance number, instance is a unique key in each of the DICOM file\u001b[0m\u001b[1;33m\u001b[0m\u001b[1;33m\u001b[0m\u001b[1;33m\u001b[0m\u001b[0m\n\u001b[0;32m      6\u001b[0m     \u001b[0mslices\u001b[0m\u001b[1;33m.\u001b[0m\u001b[0msort\u001b[0m\u001b[1;33m(\u001b[0m\u001b[0mkey\u001b[0m\u001b[1;33m=\u001b[0m\u001b[1;32mlambda\u001b[0m \u001b[0mx\u001b[0m\u001b[1;33m:\u001b[0m \u001b[0mint\u001b[0m\u001b[1;33m(\u001b[0m\u001b[0mx\u001b[0m\u001b[1;33m.\u001b[0m\u001b[0mInstanceNumber\u001b[0m\u001b[1;33m)\u001b[0m\u001b[1;33m)\u001b[0m\u001b[1;33m\u001b[0m\u001b[1;33m\u001b[0m\u001b[0m\n",
      "\u001b[1;31mFileNotFoundError\u001b[0m: [WinError 3] The system cannot find the path specified: './Lung-DICOM'"
     ]
    }
   ],
   "source": [
    "patient = load_scan(data_path)\n",
    "imgs = get_pixels_hu(patient)# for the second function patient is scans\n",
    "# It should be noted that imgs contain pixel data and array used.\n"
   ]
  },
  {
   "cell_type": "code",
   "execution_count": null,
   "metadata": {},
   "outputs": [],
   "source": [
    "# 0print(patient)"
   ]
  },
  {
   "cell_type": "code",
   "execution_count": null,
   "metadata": {},
   "outputs": [],
   "source": [
    "# print(imgs)\n",
    "#This has loaded all the arrays within the pixel array"
   ]
  },
  {
   "cell_type": "code",
   "execution_count": null,
   "metadata": {},
   "outputs": [],
   "source": [
    "output_path='../Project'\n",
    "np.save(output_path+'/'+'PROJECTDATA.id_%d'%(id),imgs)\n",
    "print('PROJECTDATA.id_%d'%(id))"
   ]
  },
  {
   "cell_type": "code",
   "execution_count": null,
   "metadata": {},
   "outputs": [],
   "source": [
    "#Let's see graphically the statistics of bones and fires :p :\n",
    "files_saved=(np.load('PROJECTDATA.id_%d.npy'%(id)))\n",
    "imgs_plot=files_saved.astype(np.float64)\n",
    "plt.hist(imgs_plot.flatten(), bins=50, color='c')\n",
    "plt.xlabel(\"Hounsfield Units (HU)\")\n",
    "plt.ylabel(\"Frequency\")\n",
    "plt.show()"
   ]
  },
  {
   "cell_type": "code",
   "execution_count": null,
   "metadata": {},
   "outputs": [],
   "source": [
    "print(patient[0].PixelSpacing[0])\n"
   ]
  },
  {
   "cell_type": "code",
   "execution_count": null,
   "metadata": {},
   "outputs": [],
   "source": [
    "# printing out some parameters:\n",
    "print('Pixel spacing(row,col):(%f,%f)'%(patient[0].PixelSpacing[0],patient[0].PixelSpacing[1]))\n",
    "print('Slice Thickness: %f'%(patient[0].SliceThickness))\n",
    "# we have rows=512, columns=512 so each represent approx 496 mm of length.\n",
    "# each slice represents approximately 496 mm of data in length and width.\n",
    "# if we scanned an 85-pound patient at the same “zoom” as a 190-pound patient, you wouldn’t want the scan \n",
    "# to occupy only the middle 250 voxels with a wide rim of air – you’d want to zoom in at the time of\n",
    "# acquisition so that it makes a full use of the 512 x 512. This means that each CT scan actually \n",
    "# represents different dimensions in real life even though they are all 512 x 512 x Z slices.\n",
    "print(patient[0].SliceThickness)\n",
    "print((patient[0].PixelSpacing))"
   ]
  },
  {
   "cell_type": "code",
   "execution_count": null,
   "metadata": {},
   "outputs": [],
   "source": [
    "# An isometric transformation is one where the distance between any two pixels in A, and the distance between the \n",
    "# equivalent two pixels in B does not change after the transformation has been applied\n",
    "# There is always zoom/slice thickness invariance. A slice might have [2.4,3,3] as pixel spacing coordinates for one\n",
    "# scan and for other it might be different. So we need to resample data by setting Pixel Spacing as [1,1,1]\n",
    "id = 0\n",
    "\n",
    "def resample(imgs_rsmpl,scan,set_spacing=[1,1,1]):\n",
    "    # Determine current pixel spacing\n",
    "    \n",
    "    spacing = list(map(float,list([scan[0].SliceThickness])+list(scan[0].PixelSpacing)))#We are adding two\n",
    "#   lists here. The final concatenated list contain spacing as this order: z,x,y,(,slices,rows,col)\n",
    "    print(spacing) \n",
    "    spacing = np.array(spacing)#To make an array \n",
    "    print(imgs_rsmpl.shape)\n",
    "    resize_factor = spacing / set_spacing   #\n",
    "    new_real_shape = imgs_rsmpl.shape * resize_factor    \n",
    "    new_shape = np.round(new_real_shape)\n",
    "    real_resize_factor = new_shape / imgs_rsmpl.shape\n",
    "    set_spacing = spacing / real_resize_factor\n",
    "    print(set_spacing)\n",
    "    \n",
    "    imgs_rsmpl = scipy.ndimage.interpolation.zoom(imgs_rsmpl, real_resize_factor)\n",
    "    \n",
    "    return imgs_rsmpl, set_spacing\n",
    "\n",
    "print (\"Shape beforeresampling\\t\", files_saved.shape)\n",
    "imgs_after_resamp, spacing = resample(files_saved, patient, [1,1,1])\n",
    "print (\"Shape after resampling\\t\", imgs_after_resamp.shape)\n",
    "# Various print commands are executed above to make sure what we are doing is right.:p"
   ]
  },
  {
   "cell_type": "code",
   "execution_count": null,
   "metadata": {},
   "outputs": [],
   "source": [
    "def make_mesh"
   ]
  },
  {
   "cell_type": "code",
   "execution_count": null,
   "metadata": {},
   "outputs": [],
   "source": []
  }
 ],
 "metadata": {
  "kernelspec": {
   "display_name": "Python 3",
   "language": "python",
   "name": "python3"
  },
  "language_info": {
   "codemirror_mode": {
    "name": "ipython",
    "version": 3
   },
   "file_extension": ".py",
   "mimetype": "text/x-python",
   "name": "python",
   "nbconvert_exporter": "python",
   "pygments_lexer": "ipython3",
   "version": "3.7.4"
  }
 },
 "nbformat": 4,
 "nbformat_minor": 2
}
