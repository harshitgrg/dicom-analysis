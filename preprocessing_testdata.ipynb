{
 "cells": [
  {
   "cell_type": "code",
   "execution_count": 1,
   "metadata": {},
   "outputs": [
    {
     "data": {
      "text/html": [
       "        <script type=\"text/javascript\">\n",
       "        window.PlotlyConfig = {MathJaxConfig: 'local'};\n",
       "        if (window.MathJax) {MathJax.Hub.Config({SVG: {font: \"STIX-Web\"}});}\n",
       "        if (typeof require !== 'undefined') {\n",
       "        require.undef(\"plotly\");\n",
       "        requirejs.config({\n",
       "            paths: {\n",
       "                'plotly': ['https://cdn.plot.ly/plotly-latest.min']\n",
       "            }\n",
       "        });\n",
       "        require(['plotly'], function(Plotly) {\n",
       "            window._Plotly = Plotly;\n",
       "        });\n",
       "        }\n",
       "        </script>\n",
       "        "
      ]
     },
     "metadata": {},
     "output_type": "display_data"
    }
   ],
   "source": [
    "import numpy as np\n",
    "import pydicom as pyd\n",
    "import os\n",
    "import matplotlib.pyplot as plt\n",
    "from glob import glob\n",
    "from mpl_toolkits.mplot3d.art3d import Poly3DCollection\n",
    "import scipy.ndimage\n",
    "from skimage import morphology\n",
    "from skimage import measure\n",
    "from skimage.transform import resize\n",
    "from sklearn.cluster import KMeans\n",
    "from plotly import __version__\n",
    "from plotly.offline import download_plotlyjs, init_notebook_mode, plot, iplot\n",
    "from plotly.tools import FigureFactory as FF\n",
    "from plotly.graph_objs import *\n",
    "init_notebook_mode(connected=True) \n"
   ]
  },
  {
   "cell_type": "code",
   "execution_count": 2,
   "metadata": {},
   "outputs": [],
   "source": [
    "data_path='./Lung-DICOM'\n",
    "output_path='../Project'\n"
   ]
  },
  {
   "cell_type": "code",
   "execution_count": 3,
   "metadata": {},
   "outputs": [],
   "source": [
    "# this function is fixing the missing values (if any) in the Slice Thickness Metadata\n",
    "def load_scan(path):#We can also do it for the other code, do it later.\n",
    "    # replace it with os.walk\n",
    "    slices=[pyd.dcmread(path+'/'+s) for s in os.listdir(path)]#List comprehension\n",
    "    #Sort the list by Instance number, instance is a unique key in each of the DICOM file\n",
    "    slices.sort(key=lambda x: int(x.InstanceNumber)) \n",
    "    try:#Slice thickness is along z axis, but we dont know actual coordinates because of reference issues, so \n",
    "        #we define slice_thickness as difference.\n",
    "        silce_thickness=np.abs(slices[0].ImagePositionPatient[2]-slices[1].ImagePositionPatient[2])\n",
    "    except:\n",
    "        slice_thickness=np.abs(slices[0].SliceLocation - slices[1].SliceLocation)\n",
    "\n",
    "        \n",
    "        # Slice location and image position [2] are same, this error handler ensures that if there is a missing value in image position, it takes slice location    for s in slices:#For every slice it will set the attribute to the value of above array\n",
    "        s.SliceThickness=slice_thickness\n",
    "    return slices\n",
    "\n",
    "    \n",
    "def get_pixels_hu(scans):\n",
    "    image=np.stack(list(ds.pixel_array for ds in scans))#We have stacked all the arrays(pixel arrays) as one. \n",
    "    image=image.astype(np.int16)#Image is the' combined effect' of slices' pixels data\n",
    "    intercept=scans[0].RescaleIntercept# These two attributes are already present in ds(ResInter and Slope)\n",
    "    slope=scans[0].RescaleSlope\n",
    "    image[image == -2000] = 0 #\n",
    "    if slope !=1:#slope is assumed to be one generally\n",
    "        image = slope * image.astype(np.float64)\n",
    "        image=image.astype(np.int16)\n",
    "    image=image+np.int16(intercept) #Formula for hu conversion: slope*image+intercept\n",
    "    return np.array(image, dtype=np.int16)\n",
    "id=0    \n"
   ]
  },
  {
   "cell_type": "code",
   "execution_count": 4,
   "metadata": {},
   "outputs": [],
   "source": [
    "patient = load_scan(data_path)\n",
    "imgs = get_pixels_hu(patient)# for the second function patient is scans\n",
    "# It should be noted that imgs contain pixel data and array used.\n"
   ]
  },
  {
   "cell_type": "code",
   "execution_count": 5,
   "metadata": {},
   "outputs": [],
   "source": [
    "# print(patient)"
   ]
  },
  {
   "cell_type": "code",
   "execution_count": null,
   "metadata": {},
   "outputs": [],
   "source": [
    "MIN_BOUND = -1000.0\n",
    "MAX_BOUND = 400.0\n",
    "    \n",
    "def normalize(image):\n",
    "    image = (image - MIN_BOUND) / (MAX_BOUND - MIN_BOUND)\n",
    "    image[image>1] = 1.\n",
    "    image[image<0] = 0.\n",
    "    return image"
   ]
  },
  {
   "cell_type": "code",
   "execution_count": null,
   "metadata": {},
   "outputs": [],
   "source": [
    "normalize(imgs)"
   ]
  },
  {
   "cell_type": "code",
   "execution_count": 6,
   "metadata": {},
   "outputs": [],
   "source": [
    "# print(imgs)\n",
    "#This has loaded all the arrays within the pixel array"
   ]
  },
  {
   "cell_type": "code",
   "execution_count": 7,
   "metadata": {},
   "outputs": [],
   "source": [
    "output_path='../Project/GIT/data-analysis-diwali'"
   ]
  },
  {
   "cell_type": "code",
   "execution_count": 8,
   "metadata": {},
   "outputs": [],
   "source": [
    "np.save(os.path.join(output_path,'/PROJECTIMGS_%d.npy'%(id)),imgs)"
   ]
  },
  {
   "cell_type": "code",
   "execution_count": 9,
   "metadata": {},
   "outputs": [
    {
     "data": {
      "image/png": "[encoded data removed]",
      "text/plain": [
       "<Figure size 432x288 with 1 Axes>"
      ]
     },
     "metadata": {
      "needs_background": "light"
     },
     "output_type": "display_data"
    }
   ],
   "source": [
    "#Let's see graphically the statistics of bones and fires :p :\n",
    "files_saved=(np.load(os.path.join(output_path,'/PROJECTIMGS_%d.npy'%(id))))\n",
    "imgs_plot=files_saved.astype(np.float64)\n",
    "plt.hist(imgs_plot.flatten(), bins=50, color='c')\n",
    "plt.xlabel(\"Hounsfield Units (HU)\")\n",
    "plt.ylabel(\"Frequency\")\n",
    "plt.show()"
   ]
  },
  {
   "cell_type": "code",
   "execution_count": 10,
   "metadata": {},
   "outputs": [
    {
     "name": "stdout",
     "output_type": "stream",
     "text": [
      "0.9765625\n"
     ]
    }
   ],
   "source": [
    "print(patient[0].PixelSpacing[0])\n"
   ]
  },
  {
   "cell_type": "code",
   "execution_count": 11,
   "metadata": {},
   "outputs": [
    {
     "name": "stdout",
     "output_type": "stream",
     "text": [
      "Pixel spacing(row,col):(0.976562,0.976562)\n",
      "Slice Thickness: 3.000000\n",
      "3\n",
      "['0.9765625', '0.9765625']\n"
     ]
    }
   ],
   "source": [
    "# printing out some parameters:\n",
    "print('Pixel spacing(row,col):(%f,%f)'%(patient[0].PixelSpacing[0],patient[0].PixelSpacing[1]))\n",
    "print('Slice Thickness: %f'%(patient[0].SliceThickness))\n",
    "# we have rows=512, columns=512 so each represent approx 496 mm of length.\n",
    "# each slice represents approximately 496 mm of data in length and width.\n",
    "# if we scanned an 85-pound patient at the same “zoom” as a 190-pound patient, you wouldn’t want the scan \n",
    "# to occupy only the middle 250 voxels with a wide rim of air – you’d want to zoom in at the time of\n",
    "# acquisition so that it makes a full use of the 512 x 512. This means that each CT scan actually \n",
    "# represents different dimensions in real life even though they are all 512 x 512 x Z slices.\n",
    "print(patient[0].SliceThickness)\n",
    "print((patient[0].PixelSpacing))"
   ]
  },
  {
   "cell_type": "code",
   "execution_count": 12,
   "metadata": {},
   "outputs": [
    {
     "name": "stdout",
     "output_type": "stream",
     "text": [
      "Shape beforeresampling\t (128, 512, 512)\n",
      "[3.0, 0.9765625, 0.9765625]\n",
      "(128, 512, 512)\n",
      "[1. 1. 1.]\n",
      "Shape after resampling\t (384, 500, 500)\n"
     ]
    }
   ],
   "source": [
    "# An isometric transformation is one where the distance between any two pixels in A, and the distance between the \n",
    "# equivalent two pixels in B does not change after the transformation has been applied\n",
    "# There is always zoom/slice thickness invariance. A slice might have [2.4,3,3] as pixel spacing coordinates for one\n",
    "# scan and for other it might be different. So we need to resample data by setting Pixel Spacing as [1,1,1]\n",
    "id = 0\n",
    "\n",
    "def resample(imgs_rsmpl,scan,set_spacing=[1,1,1]):\n",
    "    # Determine current pixel spacing\n",
    "    \n",
    "    spacing = list(map(float,list([scan[0].SliceThickness])+list(scan[0].PixelSpacing)))#We are adding two\n",
    "#   lists here. The final concatenated list contain spacing as this order: z,x,y,(,slices,rows,col)\n",
    "    print(spacing) \n",
    "    spacing = np.array(spacing)#To make an array \n",
    "    print(imgs_rsmpl.shape)\n",
    "    resize_factor = spacing / set_spacing   #\n",
    "    new_real_shape = imgs_rsmpl.shape * resize_factor    \n",
    "    new_shape = np.round(new_real_shape)\n",
    "    real_resize_factor = new_shape / imgs_rsmpl.shape\n",
    "    set_spacing = spacing / real_resize_factor\n",
    "    print(set_spacing)\n",
    "    \n",
    "    imgs_rsmpl = scipy.ndimage.interpolation.zoom(imgs_rsmpl, real_resize_factor)\n",
    "    \n",
    "    return imgs_rsmpl, set_spacing\n",
    "\n",
    "print (\"Shape beforeresampling\\t\", files_saved.shape)\n",
    "imgs_after_resamp, spacing = resample(files_saved, patient, [1,1,1])\n",
    "print (\"Shape after resampling\\t\", imgs_after_resamp.shape)\n",
    "# Various print commands are executed above to make sure what we are doing is right.:p"
   ]
  },
  {
   "cell_type": "code",
   "execution_count": null,
   "metadata": {},
   "outputs": [],
   "source": [
    "# https://en.wikipedia.org/wiki/Marching_cubes\n",
    "# Using Polygon Meshes https://en.wikipedia.org/wiki/Polygon_mesh\n",
    "def make_mesh(image, threshold=-300, step_size=1):\n",
    "\n",
    "    print (\"Transposing surface\")\n",
    "    p = image.transpose(2,1,0)\n",
    "    \n",
    "    print (\"Calculating surface\")\n",
    "    verts, faces, norm, val = measure.marching_cubes_lewiner(p, threshold, step_size=step_size, allow_degenerate=True) \n",
    "    return verts, faces       \n",
    "\n",
    "def plotly_3d(verts, faces):\n",
    "    x,y,z = zip(*verts) \n",
    "    \n",
    "    print (\"Drawing\")\n",
    "    \n",
    "    # Make the colormap single color since the axes are positional not intensity. \n",
    "#    colormap=['rgb(255,105,180)','rgb(255,255,51)','rgb(0,191,255)']\n",
    "    colormap=['rgb(236, 236, 212)','rgb(236, 236, 212)']\n",
    "    \n",
    "    fig = FF.create_trisurf(x=x,\n",
    "                        y=y, \n",
    "                        z=z, \n",
    "                        plot_edges=False,\n",
    "                        colormap=colormap,\n",
    "                        simplices=faces,\n",
    "                        backgroundcolor='rgb(64, 64, 64)',\n",
    "                        title=\"Interactive Visualization\")\n",
    "    iplot(fig)\n",
    "\n",
    "def plt_3d(verts, faces):\n",
    "    print (\"Drawing\")\n",
    "    x,y,z = zip(*verts) \n",
    "    fig = plt.figure(figsize=(10, 10))\n",
    "    ax = fig.add_subplot(111, projection='3d')\n",
    "\n",
    "    # Fancy indexing: `verts[faces]` to generate a collection of triangles\n",
    "    mesh = Poly3DCollection(verts[faces], linewidths=0.05, alpha=1)\n",
    "    face_color = [1, 1, 0.9]\n",
    "    mesh.set_facecolor(face_color)\n",
    "    ax.add_collection3d(mesh)\n",
    "\n",
    "    ax.set_xlim(0, max(x))\n",
    "    ax.set_ylim(0, max(y))\n",
    "    ax.set_zlim(0, max(z))\n",
    "    ax.get_fc((0.7, 0.7, 0.7))\n",
    "    plt.show()\n",
    "\n"
   ]
  },
  {
   "cell_type": "code",
   "execution_count": null,
   "metadata": {},
   "outputs": [],
   "source": [
    "v, f = make_mesh(imgs_after_resamp, 350)\n",
    "plt_3d(v, f)"
   ]
  },
  {
   "cell_type": "code",
   "execution_count": null,
   "metadata": {},
   "outputs": [],
   "source": [
    "v, f = make_mesh(imgs_after_resamp, 350, 2)\n",
    "plotly_3d(v, f)"
   ]
  },
  {
   "cell_type": "code",
   "execution_count": null,
   "metadata": {},
   "outputs": [],
   "source": [
    "#Standardize the pixel values\n",
    "def make_lungmask(img, display=False):\n",
    "    row_size= img.shape[0]\n",
    "    col_size = img.shape[1]\n",
    "    \n",
    "    mean = np.mean(img)\n",
    "    std = np.std(img)\n",
    "    img = img-mean\n",
    "    img = img/std\n",
    "    # Find the average pixel value near the lungs\n",
    "    # to renormalize washed out images\n",
    "    middle = img[int(col_size/5):int(col_size/5*4),int(row_size/5):int(row_size/5*4)] \n",
    "    mean = np.mean(middle)  \n",
    "    max = np.max(img)\n",
    "    min = np.min(img)\n",
    "    # To improve threshold finding, I'm moving the \n",
    "    # underflow and overflow on the pixel spectrum\n",
    "    img[img==max]=mean\n",
    "    img[img==min]=mean\n",
    "    #\n",
    "    # Using Kmeans to separate foreground (soft tissue / bone) and background (lung/air)\n",
    "    #\n",
    "    kmeans = KMeans(n_clusters=2).fit(np.reshape(middle,[np.prod(middle.shape),1]))\n",
    "    centers = sorted(kmeans.cluster_centers_.flatten())\n",
    "    threshold = np.mean(centers)\n",
    "    thresh_img = np.where(img<threshold,1.0,0.0)  # threshold the image\n",
    "\n",
    "    # First erode away the finer elements, then dilate to include some of the pixels surrounding the lung.  \n",
    "    # We don't want to accidentally clip the lung.\n",
    "\n",
    "    eroded = morphology.erosion(thresh_img,np.ones([3,3]))\n",
    "    dilation = morphology.dilation(eroded,np.ones([8,8]))\n",
    "\n",
    "    labels = measure.label(dilation) # Different labels are displayed in different colors\n",
    "    label_vals = np.unique(labels)\n",
    "    regions = measure.regionprops(labels)\n",
    "    good_labels = []\n",
    "    for prop in regions:\n",
    "        B = prop.bbox\n",
    "        if B[2]-B[0]<row_size/10*9 and B[3]-B[1]<col_size/10*9 and B[0]>row_size/5 and B[2]<col_size/5*4:\n",
    "            good_labels.append(prop.label)\n",
    "    mask = np.ndarray([row_size,col_size],dtype=np.int8)\n",
    "    mask[:] = 0\n",
    "\n",
    "    #\n",
    "    #  After just the lungs are left, we do another large dilation\n",
    "    #  in order to fill in and out the lung mask \n",
    "    #\n",
    "    for N in good_labels:\n",
    "        mask = mask + np.where(labels==N,1,0)\n",
    "    mask = morphology.dilation(mask,np.ones([10,10])) # one last dilation\n",
    "\n",
    "    if (display):\n",
    "        fig, ax = plt.subplots(3, 2, figsize=[12, 12])\n",
    "        ax[0, 0].set_title(\"Original\")\n",
    "        ax[0, 0].imshow(img, cmap='gray')\n",
    "        ax[0, 0].axis('off')\n",
    "        ax[0, 1].set_title(\"Threshold\")\n",
    "        ax[0, 1].imshow(thresh_img, cmap='gray')\n",
    "        ax[0, 1].axis('off')\n",
    "        ax[1, 0].set_title(\"After Erosion and Dilation\")\n",
    "        ax[1, 0].imshow(dilation, cmap='gray')\n",
    "        ax[1, 0].axis('off')\n",
    "        ax[1, 1].set_title(\"Color Labels\")\n",
    "        ax[1, 1].imshow(labels)\n",
    "        ax[1, 1].axis('off')\n",
    "        ax[2, 0].set_title(\"Final Mask\")\n",
    "        ax[2, 0].imshow(mask, cmap='gray')\n",
    "        ax[2, 0].axis('off')\n",
    "        ax[2, 1].set_title(\"Apply Mask on Original\")\n",
    "        ax[2, 1].imshow(mask*img, cmap='gray')\n",
    "        ax[2, 1].axis('off')\n",
    "        \n",
    "        plt.show()\n",
    "    return mask*img"
   ]
  },
  {
   "cell_type": "code",
   "execution_count": null,
   "metadata": {},
   "outputs": [],
   "source": [
    "img = imgs_after_resamp[260]\n",
    "make_lungmask(img, display=True)"
   ]
  },
  {
   "cell_type": "code",
   "execution_count": null,
   "metadata": {},
   "outputs": [],
   "source": [
    "masked_lung = []\n",
    "for img in imgs_after_resamp:\n",
    "    masked_lung.append(make_lungmask(img))"
   ]
  },
  {
   "cell_type": "code",
   "execution_count": null,
   "metadata": {},
   "outputs": [],
   "source": []
  }
 ],
 "metadata": {
  "kernelspec": {
   "display_name": "Python 3",
   "language": "python",
   "name": "python3"
  },
  "language_info": {
   "codemirror_mode": {
    "name": "ipython",
    "version": 3
   },
   "file_extension": ".py",
   "mimetype": "text/x-python",
   "name": "python",
   "nbconvert_exporter": "python",
   "pygments_lexer": "ipython3",
   "version": "3.7.4"
  }
 },
 "nbformat": 4,
 "nbformat_minor": 2
}
